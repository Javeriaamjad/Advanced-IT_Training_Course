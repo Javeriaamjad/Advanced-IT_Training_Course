{
  "nbformat": 4,
  "nbformat_minor": 0,
  "metadata": {
    "colab": {
      "provenance": []
    },
    "kernelspec": {
      "name": "python3",
      "display_name": "Python 3"
    },
    "language_info": {
      "name": "python"
    }
  },
  "cells": [
    {
      "cell_type": "code",
      "execution_count": 2,
      "metadata": {
        "colab": {
          "base_uri": "https://localhost:8080/"
        },
        "id": "j-KKVSnCvTjK",
        "outputId": "0796d476-d9f5-45b6-aa5f-34035b6bb675"
      },
      "outputs": [
        {
          "output_type": "stream",
          "name": "stdout",
          "text": [
            "Helloo, I learning the python languaege\n"
          ]
        }
      ],
      "source": [
        "#Functions as first class objects\n",
        "\n",
        "#assigning function to some variable\n",
        "\n",
        "def say_hello():\n",
        "  print(\"Helloo, I learning the python languaege\")\n",
        "greet = say_hello\n",
        "\n",
        "say_hello()\n",
        "\n"
      ]
    },
    {
      "cell_type": "code",
      "source": [
        "#Passing functions as an arguments\n",
        "def add(x,y):\n",
        "  return x + y\n",
        "\n",
        "def operate_numbers(f,a,b):\n",
        "  return f(a,b)\n",
        "\n",
        "result = operate_numbers(add,2,3)\n",
        "\n",
        "print(result)"
      ],
      "metadata": {
        "colab": {
          "base_uri": "https://localhost:8080/"
        },
        "id": "k7QjNStQwcsj",
        "outputId": "9919f391-d0bb-42ef-e39d-bbb5e3ad9eac"
      },
      "execution_count": 3,
      "outputs": [
        {
          "output_type": "stream",
          "name": "stdout",
          "text": [
            "5\n"
          ]
        }
      ]
    },
    {
      "cell_type": "code",
      "source": [
        "#Retruning functions from other function\n",
        "\n",
        "def multiplier(factor):\n",
        "  def multiply(num):\n",
        "    return num * factor\n",
        "  return multiply\n",
        "\n",
        "double = multiplier(2) # Set factor = 2\n",
        "\n",
        "print(double(5))  #double is basically multiply function (inner function)\n",
        "\n",
        "#10"
      ],
      "metadata": {
        "colab": {
          "base_uri": "https://localhost:8080/"
        },
        "id": "oFT_EnZXwcle",
        "outputId": "0572c236-5d27-4377-8ac4-49b3c502aa5c"
      },
      "execution_count": 4,
      "outputs": [
        {
          "output_type": "stream",
          "name": "stdout",
          "text": [
            "10\n"
          ]
        }
      ]
    },
    {
      "cell_type": "code",
      "source": [
        "#rescursive function\n",
        "\n",
        "def factorial(n):\n",
        "  if n == 1:\n",
        "    return 1\n",
        "  return n * factorial(n-1)\n",
        "\n",
        "print(factorial(5))   #120"
      ],
      "metadata": {
        "colab": {
          "base_uri": "https://localhost:8080/"
        },
        "id": "HnjHkJ93wciI",
        "outputId": "184c1453-b6b8-4a33-f1b4-c83cac4b7e66"
      },
      "execution_count": 5,
      "outputs": [
        {
          "output_type": "stream",
          "name": "stdout",
          "text": [
            "120\n"
          ]
        }
      ]
    },
    {
      "cell_type": "code",
      "source": [
        "#Doc strings\n",
        "\n",
        "def calculator(values):\n",
        "  \"\"\"This function is basically used for the calculation \"\"\"\n",
        "  pass"
      ],
      "metadata": {
        "id": "imT4r508wcce"
      },
      "execution_count": 6,
      "outputs": []
    },
    {
      "cell_type": "code",
      "source": [
        "help(calculator)\n"
      ],
      "metadata": {
        "colab": {
          "base_uri": "https://localhost:8080/"
        },
        "id": "NryUEwH-wcZf",
        "outputId": "35e29fe0-6fdb-448d-e126-32feb8403e18"
      },
      "execution_count": 7,
      "outputs": [
        {
          "output_type": "stream",
          "name": "stdout",
          "text": [
            "Help on function calculator in module __main__:\n",
            "\n",
            "calculator(values)\n",
            "    This function is basically used for the calculation\n",
            "\n"
          ]
        }
      ]
    },
    {
      "cell_type": "code",
      "source": [
        "#local variable can use only inside the fucntion\n",
        "#global variable can use both outside and inside the function\n",
        "\n",
        "#local variable\n",
        "\n",
        "def calculator():\n",
        "  a = 10\n",
        "  b = 20\n",
        "  print(f\"Addition of 2 numbers are: {a+b}\")\n",
        "\n",
        "calculator()"
      ],
      "metadata": {
        "colab": {
          "base_uri": "https://localhost:8080/"
        },
        "id": "z805Z4dcwcVs",
        "outputId": "e0d48046-5276-4571-f9d8-e6ff2360e9b8"
      },
      "execution_count": 8,
      "outputs": [
        {
          "output_type": "stream",
          "name": "stdout",
          "text": [
            "Addition of 2 numbers are: 30\n"
          ]
        }
      ]
    },
    {
      "cell_type": "code",
      "source": [
        "#Global variable\n",
        "a = 10\n",
        "b = 20\n",
        "def calculator():\n",
        "\n",
        "  print(f\"Addition of 2 numbers are: {a+b}\")\n",
        "\n",
        "calculator()"
      ],
      "metadata": {
        "colab": {
          "base_uri": "https://localhost:8080/"
        },
        "id": "Zh6KU4N_wcSU",
        "outputId": "bdb66ffc-3db7-431d-b9c8-45666cb493b4"
      },
      "execution_count": 9,
      "outputs": [
        {
          "output_type": "stream",
          "name": "stdout",
          "text": [
            "Addition of 2 numbers are: 30\n"
          ]
        }
      ]
    },
    {
      "cell_type": "code",
      "source": [
        "a = 10\n",
        "b = 20\n",
        "def calculator():\n",
        "  global a\n",
        "  a = 20\n",
        "  print(f\"Addition of 2 numbers are: {a+b}\")\n",
        "\n",
        "calculator()\n"
      ],
      "metadata": {
        "colab": {
          "base_uri": "https://localhost:8080/"
        },
        "id": "T8LTfbXVwcNf",
        "outputId": "99956b29-0fce-4b10-e953-fad132a91966"
      },
      "execution_count": 10,
      "outputs": [
        {
          "output_type": "stream",
          "name": "stdout",
          "text": [
            "Addition of 2 numbers are: 40\n"
          ]
        }
      ]
    },
    {
      "cell_type": "code",
      "source": [
        "\n",
        "def outer():\n",
        "  x = 5\n",
        "  def inner():\n",
        "    nonlocal x\n",
        "    x = 10\n",
        "  inner()\n",
        "  print(\"Outer function x value is:\", x)\n",
        "outer()"
      ],
      "metadata": {
        "colab": {
          "base_uri": "https://localhost:8080/"
        },
        "id": "TNy6lm31wcCk",
        "outputId": "4b0b5d1e-56fa-4b85-da32-344d2efc5f8b"
      },
      "execution_count": 11,
      "outputs": [
        {
          "output_type": "stream",
          "name": "stdout",
          "text": [
            "Outer function x value is: 10\n"
          ]
        }
      ]
    },
    {
      "cell_type": "code",
      "source": [
        "pip install numpy\n"
      ],
      "metadata": {
        "colab": {
          "base_uri": "https://localhost:8080/"
        },
        "id": "qiz-zCdrxJKv",
        "outputId": "0a580aec-10ea-4928-8156-afc96fd1bb4f"
      },
      "execution_count": 12,
      "outputs": [
        {
          "output_type": "stream",
          "name": "stdout",
          "text": [
            "Requirement already satisfied: numpy in /usr/local/lib/python3.11/dist-packages (1.26.4)\n"
          ]
        }
      ]
    },
    {
      "cell_type": "code",
      "source": [
        "\n",
        "import numpy as np\n",
        "\n",
        "#python list and Numpy Array\n",
        "py_list = [1,2,3,4,5]\n",
        "np_array = np.array([1,2,3,4,5])\n",
        "\n",
        "print(type(py_list))\n",
        "print(type(np_array))"
      ],
      "metadata": {
        "colab": {
          "base_uri": "https://localhost:8080/"
        },
        "id": "qDuyEjxlwb0c",
        "outputId": "18f80a3b-28a6-48ad-e96f-e4020f8e44be"
      },
      "execution_count": 14,
      "outputs": [
        {
          "output_type": "stream",
          "name": "stdout",
          "text": [
            "<class 'list'>\n",
            "<class 'numpy.ndarray'>\n"
          ]
        }
      ]
    },
    {
      "cell_type": "code",
      "source": [
        "#1D array\n",
        "\n",
        "arr_1d = np.array([1,2,3,4,5])\n",
        "print(arr_1d)\n",
        "\n",
        "#2D array\n",
        "arr_2d = np.array([[1,2,3],    #2x3 matrix\n",
        "                   [4,5,6]])\n",
        "print(arr_2d)\n",
        "\n",
        "print(arr_2d.ndim)"
      ],
      "metadata": {
        "colab": {
          "base_uri": "https://localhost:8080/"
        },
        "id": "MviUA5NNxKG7",
        "outputId": "ee1b8ccf-f1f0-40bc-e8d5-b59e140c33ed"
      },
      "execution_count": 15,
      "outputs": [
        {
          "output_type": "stream",
          "name": "stdout",
          "text": [
            "[1 2 3 4 5]\n",
            "[[1 2 3]\n",
            " [4 5 6]]\n",
            "2\n"
          ]
        }
      ]
    },
    {
      "cell_type": "code",
      "source": [
        "\n",
        "#arrays filled with zeros\n",
        "zeros_array = np.zeros((2,3))\n",
        "print(zeros_array)\n",
        "\n",
        "#arrays filled with ones\n",
        "zeros_array = np.ones((2,3))\n",
        "print(zeros_array)\n",
        "\n",
        "#arrays filled with nine\n",
        "zeros_array = np.full((2,3), 8)\n",
        "print(zeros_array)"
      ],
      "metadata": {
        "colab": {
          "base_uri": "https://localhost:8080/"
        },
        "id": "aqlcrc2-xKaj",
        "outputId": "50e5632b-8180-4935-d1cc-670f9a5350c9"
      },
      "execution_count": 16,
      "outputs": [
        {
          "output_type": "stream",
          "name": "stdout",
          "text": [
            "[[0. 0. 0.]\n",
            " [0. 0. 0.]]\n",
            "[[1. 1. 1.]\n",
            " [1. 1. 1.]]\n",
            "[[8 8 8]\n",
            " [8 8 8]]\n"
          ]
        }
      ]
    },
    {
      "cell_type": "code",
      "source": [
        "#array filled with evenly spaced value\n",
        "\n",
        "linspace_array = np.linspace(1,10,5)\n",
        "print(linspace_array)\n",
        "\n",
        "#array filled with range of numbers\n",
        "\n",
        "range_array = np.arange(1,10,5)\n",
        "print(range_array)"
      ],
      "metadata": {
        "colab": {
          "base_uri": "https://localhost:8080/"
        },
        "id": "ns-LHuHvxKpU",
        "outputId": "f9e4ff3f-7fba-4d7d-8fc8-9904de68b0bd"
      },
      "execution_count": 17,
      "outputs": [
        {
          "output_type": "stream",
          "name": "stdout",
          "text": [
            "[ 1.    3.25  5.5   7.75 10.  ]\n",
            "[1 6]\n"
          ]
        }
      ]
    },
    {
      "cell_type": "code",
      "source": [
        "#Create a random arrays\n",
        "\n",
        "#array between 0 & 1\n",
        "\n",
        "random_array = np.random.rand(3,3)\n",
        "print(random_array)\n",
        "\n",
        "#array between 1 & 99\n",
        "\n",
        "random_array = np.random.randint(1,100, (3,3))\n",
        "print(random_array.ndim)"
      ],
      "metadata": {
        "colab": {
          "base_uri": "https://localhost:8080/"
        },
        "id": "OsUgZZpfxK2U",
        "outputId": "6cbf1401-835c-47b9-c71e-965bb07f24c0"
      },
      "execution_count": 18,
      "outputs": [
        {
          "output_type": "stream",
          "name": "stdout",
          "text": [
            "[[0.13604912 0.33366466 0.98200875]\n",
            " [0.00754487 0.88560319 0.62374399]\n",
            " [0.71161935 0.90206479 0.79628648]]\n",
            "2\n"
          ]
        }
      ]
    },
    {
      "cell_type": "code",
      "source": [
        "#Shape, Size and Dimension of array\n",
        "\n",
        "arr = np.array([[1,2,3],\n",
        "                [3,4,5]])\n",
        "\n",
        "print(arr.shape)\n",
        "\n",
        "print(arr.size)\n"
      ],
      "metadata": {
        "colab": {
          "base_uri": "https://localhost:8080/"
        },
        "id": "NurNtiD9xLDW",
        "outputId": "01391061-322c-415f-a853-d82965f83a63"
      },
      "execution_count": 19,
      "outputs": [
        {
          "output_type": "stream",
          "name": "stdout",
          "text": [
            "(2, 3)\n",
            "6\n"
          ]
        }
      ]
    },
    {
      "cell_type": "code",
      "source": [
        "#reshaping the arrays\n",
        "\n",
        "arr = np.array([1,2,3,5,6,7])\n",
        "arr_reshaped = arr.reshape((2,3))\n",
        "print(arr_reshaped)\n",
        "\n",
        "arr2  = np.array([4,5,6])\n",
        "\n",
        "print(\"sum\",arr1 + arr2)"
      ],
      "metadata": {
        "colab": {
          "base_uri": "https://localhost:8080/"
        },
        "id": "kAOX0-sTxds2",
        "outputId": "15e03a54-fef9-4c04-f037-e81e5b966be8"
      },
      "execution_count": 29,
      "outputs": [
        {
          "output_type": "stream",
          "name": "stdout",
          "text": [
            "[[1 2 3]\n",
            " [5 6 7]]\n",
            "sum [14 25  9]\n"
          ]
        }
      ]
    },
    {
      "cell_type": "code",
      "source": [
        "#min, max, sum\n",
        "\n",
        "arr = np.array([[1,2,3],\n",
        "                [3,4,5]])\n",
        "\n",
        "print(np.max(arr))\n",
        "print(np.min(arr))\n",
        "print(np.sum(arr))"
      ],
      "metadata": {
        "colab": {
          "base_uri": "https://localhost:8080/"
        },
        "id": "kyS0GVoMxLIW",
        "outputId": "99c5cd57-61e8-4c74-c287-c85440e7cd17"
      },
      "execution_count": 21,
      "outputs": [
        {
          "output_type": "stream",
          "name": "stdout",
          "text": [
            "5\n",
            "1\n",
            "18\n"
          ]
        }
      ]
    },
    {
      "cell_type": "code",
      "source": [
        "arr = np.array([[1,2,3],\n",
        "                [3,4,5],\n",
        "                [4,5,6]])\n",
        "\n",
        "\n",
        "print(arr[-1,-1])"
      ],
      "metadata": {
        "colab": {
          "base_uri": "https://localhost:8080/"
        },
        "id": "DTsrR4Onxigg",
        "outputId": "78c25863-0b7b-4acd-b2cc-02c34e249e79"
      },
      "execution_count": 22,
      "outputs": [
        {
          "output_type": "stream",
          "name": "stdout",
          "text": [
            "6\n"
          ]
        }
      ]
    },
    {
      "cell_type": "code",
      "source": [
        "#slicing concept\n",
        "arr1  = np.array([1,2,3])\n",
        "\n",
        "arr1[::-1]\n",
        "\n",
        "arr = np.array([[1,2,3],\n",
        "                [3,4,5],\n",
        "                [4,5,6]])\n",
        "\n",
        "arr[:,1:3]\n",
        ""
      ],
      "metadata": {
        "colab": {
          "base_uri": "https://localhost:8080/"
        },
        "id": "U4hhjTeNxiUv",
        "outputId": "be58db94-9549-406a-e44a-9c78c3012b8e"
      },
      "execution_count": 23,
      "outputs": [
        {
          "output_type": "execute_result",
          "data": {
            "text/plain": [
              "array([[2, 3],\n",
              "       [4, 5],\n",
              "       [5, 6]])"
            ]
          },
          "metadata": {},
          "execution_count": 23
        }
      ]
    },
    {
      "cell_type": "code",
      "source": [
        "#conditonal filtering\n",
        "arr1  = np.array([1,2,3])\n",
        "result = np.where(arr1 < 10)\n",
        "print(result)\n",
        "\n",
        "\n",
        "\n",
        "# np.take()\n",
        "\n",
        "arr1  = np.array([1,2,3])\n",
        "\n",
        "np.put(arr1,[0,1],[10,20])\n",
        "\n",
        "print(arr1)"
      ],
      "metadata": {
        "colab": {
          "base_uri": "https://localhost:8080/"
        },
        "id": "tEkuw1_rxh_L",
        "outputId": "9a0461e6-4d35-4955-d52e-8866d7c26b94"
      },
      "execution_count": 26,
      "outputs": [
        {
          "output_type": "stream",
          "name": "stdout",
          "text": [
            "(array([0, 1, 2]),)\n",
            "[10 20  3]\n"
          ]
        }
      ]
    }
  ]
}