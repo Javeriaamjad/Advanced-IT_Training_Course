{
  "nbformat": 4,
  "nbformat_minor": 0,
  "metadata": {
    "colab": {
      "provenance": []
    },
    "kernelspec": {
      "name": "python3",
      "display_name": "Python 3"
    },
    "language_info": {
      "name": "python"
    }
  },
  "cells": [
    {
      "cell_type": "code",
      "source": [
        "age = int(input(\"Enter your age: \"))\n",
        "if age <= 21:\n",
        "  print(\"You are eligible for the vote\")"
      ],
      "metadata": {
        "colab": {
          "base_uri": "https://localhost:8080/"
        },
        "id": "QgT6qiWL-_WN",
        "outputId": "7baf435f-4605-4622-ac53-60ecbfe6c189"
      },
      "execution_count": 1,
      "outputs": [
        {
          "output_type": "stream",
          "name": "stdout",
          "text": [
            "Enter your age: 21\n",
            "You are eligible for the vote\n"
          ]
        }
      ]
    },
    {
      "cell_type": "code",
      "source": [
        "age = input(\"Enter your age: \")\n",
        "if age <= str(21):\n",
        "  print(\"You are eligible for the vote\")\n",
        "else:\n",
        "  print(\"You are not eligible for the vote\")"
      ],
      "metadata": {
        "colab": {
          "base_uri": "https://localhost:8080/"
        },
        "id": "gaQcLhfM_DHz",
        "outputId": "ef7fc900-b9c8-43a9-acc3-6b8bb12e20ee"
      },
      "execution_count": 3,
      "outputs": [
        {
          "output_type": "stream",
          "name": "stdout",
          "text": [
            "Enter your age: 18\n",
            "You are eligible for the vote\n"
          ]
        }
      ]
    },
    {
      "cell_type": "code",
      "source": [
        "marks = 70\n",
        "if marks >=90:\n",
        "  print(\"Grade: A\")\n",
        "elif marks >=80:\n",
        "  print(\"Grade: B\")\n",
        "elif marks >=70:\n",
        "  print(\"Grade: C\")\n",
        "elif marks >=60:\n",
        "  print(\"Grade: D\")\n",
        "else:\n",
        "  print(\"Grade: F\")"
      ],
      "metadata": {
        "colab": {
          "base_uri": "https://localhost:8080/"
        },
        "id": "vfScxay1_O2S",
        "outputId": "63aa6303-b412-43f3-8ebf-6fef1d327240"
      },
      "execution_count": 4,
      "outputs": [
        {
          "output_type": "stream",
          "name": "stdout",
          "text": [
            "Grade: C\n"
          ]
        }
      ]
    },
    {
      "cell_type": "code",
      "source": [
        "num = int(input(\"Enter a number: \"))\n",
        "if num >= 0:\n",
        "  if num == 0:\n",
        "    print(\"Number is zero\")\n",
        "  else:\n",
        "    print(\"Number is positive\")\n",
        "else:\n",
        "  print(\"Number is negative\")"
      ],
      "metadata": {
        "colab": {
          "base_uri": "https://localhost:8080/"
        },
        "id": "KMRN9xvc_TUB",
        "outputId": "a744ce64-80df-4ee4-ce70-db120124446d"
      },
      "execution_count": 5,
      "outputs": [
        {
          "output_type": "stream",
          "name": "stdout",
          "text": [
            "Enter a number: 6\n",
            "Number is positive\n"
          ]
        }
      ]
    },
    {
      "cell_type": "code",
      "source": [
        "num = 10\n",
        "\n",
        "if num > 5:\n",
        "  if num % 2 == 0:\n",
        "    print(f\"{num} number is greater than 5\")\n",
        "  else:\n",
        "    print(\"Odd number is greater than 5\")"
      ],
      "metadata": {
        "colab": {
          "base_uri": "https://localhost:8080/"
        },
        "id": "L_LcxKzl_eEs",
        "outputId": "9f7a8ab9-85f1-43d0-bfd5-4360f9aa0acc"
      },
      "execution_count": 6,
      "outputs": [
        {
          "output_type": "stream",
          "name": "stdout",
          "text": [
            "10 number is greater than 5\n"
          ]
        }
      ]
    },
    {
      "cell_type": "code",
      "source": [
        "is_adult = True\n",
        "has_voter_id = False\n",
        "if is_adult or has_voter_id:\n",
        "  print(\"You are eligible to vote\")\n",
        "else:\n",
        "  print(\"You are not eligible to vote\")"
      ],
      "metadata": {
        "colab": {
          "base_uri": "https://localhost:8080/"
        },
        "id": "rVwVB50__jXh",
        "outputId": "da3221bc-c460-4d07-a7fe-7781f238eff0"
      },
      "execution_count": 7,
      "outputs": [
        {
          "output_type": "stream",
          "name": "stdout",
          "text": [
            "You are eligible to vote\n"
          ]
        }
      ]
    },
    {
      "cell_type": "code",
      "execution_count": 1,
      "metadata": {
        "colab": {
          "base_uri": "https://localhost:8080/"
        },
        "id": "95zOzuIi3HvZ",
        "outputId": "40b58e0b-4e60-44f1-a762-9131a2b828a0"
      },
      "outputs": [
        {
          "output_type": "stream",
          "name": "stdout",
          "text": [
            "Minor\n"
          ]
        }
      ],
      "source": [
        "age = 15\n",
        "message = \"adult\" if age >=18 else \"Minor\"\n",
        "print(message)"
      ]
    },
    {
      "cell_type": "code",
      "source": [
        "#match-case\n",
        "color = \"red\"\n",
        "\n",
        "match color:\n",
        "  case \"red\":\n",
        "    print(\"Stop\")\n",
        "  case \"yellow\":\n",
        "    print(\"Ready\")\n",
        "  case \"green\":\n",
        "    print(\"Go\")\n",
        "  case _:\n",
        "    print(\"Invalid Color\")"
      ],
      "metadata": {
        "colab": {
          "base_uri": "https://localhost:8080/"
        },
        "id": "eHNxYZN45RLH",
        "outputId": "368f2f97-6b1a-4339-8bd5-ec61b212f176"
      },
      "execution_count": 3,
      "outputs": [
        {
          "output_type": "stream",
          "name": "stdout",
          "text": [
            "Stop\n"
          ]
        }
      ]
    },
    {
      "cell_type": "code",
      "source": [
        "fruits = [\"apple\", \"banana\", \"cherry\"]\n",
        "for fruit in fruits:\n",
        "  print(fruit)\n"
      ],
      "metadata": {
        "colab": {
          "base_uri": "https://localhost:8080/"
        },
        "id": "7R76S9MH5lLV",
        "outputId": "cb0ebfa3-e8aa-4734-f519-5f0c6688caf8"
      },
      "execution_count": 4,
      "outputs": [
        {
          "output_type": "stream",
          "name": "stdout",
          "text": [
            "apple\n",
            "banana\n",
            "cherry\n"
          ]
        }
      ]
    },
    {
      "cell_type": "code",
      "source": [
        "for char in \"Python\":\n",
        "  print(char)\n",
        ""
      ],
      "metadata": {
        "colab": {
          "base_uri": "https://localhost:8080/"
        },
        "id": "bVUINFck6aHk",
        "outputId": "45e48f06-2658-4fde-c4e7-002784327b5f"
      },
      "execution_count": 5,
      "outputs": [
        {
          "output_type": "stream",
          "name": "stdout",
          "text": [
            "P\n",
            "y\n",
            "t\n",
            "h\n",
            "o\n",
            "n\n"
          ]
        }
      ]
    },
    {
      "cell_type": "code",
      "source": [
        "person = {\"name\":\"Alic\", \"age\":25, \"city\":\"Karachi\",\"gender\":\"female\"}\n",
        "for key,value in person.items():\n",
        "  print(f\"{key}:{value}\")\n"
      ],
      "metadata": {
        "colab": {
          "base_uri": "https://localhost:8080/"
        },
        "id": "nRjUJmwn6gvn",
        "outputId": "c97798c5-6004-49ed-e31b-8f8675be291a"
      },
      "execution_count": 9,
      "outputs": [
        {
          "output_type": "stream",
          "name": "stdout",
          "text": [
            "name:Alic\n",
            "age:25\n",
            "city:Karachi\n",
            "gender:female\n"
          ]
        }
      ]
    },
    {
      "cell_type": "code",
      "source": [
        "for i in range(5):\n",
        "  print(i)\n",
        "\n",
        "name = \"javeria\"\n",
        "for i in range (3):\n",
        "  print(name)\n"
      ],
      "metadata": {
        "colab": {
          "base_uri": "https://localhost:8080/"
        },
        "id": "wtmhFBrI6_Uk",
        "outputId": "8b0dcf44-da19-4d7c-d4df-507d94c997d5"
      },
      "execution_count": 14,
      "outputs": [
        {
          "output_type": "stream",
          "name": "stdout",
          "text": [
            "0\n",
            "1\n",
            "2\n",
            "3\n",
            "4\n",
            "javeria\n",
            "javeria\n",
            "javeria\n"
          ]
        }
      ]
    },
    {
      "cell_type": "code",
      "source": [
        "\n",
        "for i in range(1,10,2):\n",
        "  print(i)\n"
      ],
      "metadata": {
        "colab": {
          "base_uri": "https://localhost:8080/"
        },
        "id": "6XnuDkyO7SaS",
        "outputId": "6f52f885-a64f-476c-9023-2b505872e622"
      },
      "execution_count": 15,
      "outputs": [
        {
          "output_type": "stream",
          "name": "stdout",
          "text": [
            "1\n",
            "3\n",
            "5\n",
            "7\n",
            "9\n"
          ]
        }
      ]
    },
    {
      "cell_type": "code",
      "source": [
        "count = 0\n",
        "while count < 5:\n",
        "  print(\"Count:\",count)\n",
        "  count += 1\n",
        "  print(f\"After Count: {count}\")"
      ],
      "metadata": {
        "colab": {
          "base_uri": "https://localhost:8080/"
        },
        "id": "pfuR7nrM7T5S",
        "outputId": "34dbc73e-d15c-468c-8fe3-133288657d47"
      },
      "execution_count": 17,
      "outputs": [
        {
          "output_type": "stream",
          "name": "stdout",
          "text": [
            "Count: 0\n",
            "After Count: 1\n",
            "Count: 1\n",
            "After Count: 2\n",
            "Count: 2\n",
            "After Count: 3\n",
            "Count: 3\n",
            "After Count: 4\n",
            "Count: 4\n",
            "After Count: 5\n"
          ]
        }
      ]
    },
    {
      "cell_type": "code",
      "source": [
        "while True:\n",
        "  user_input = input(\"Enter quit to exit:\")\n",
        "  if user_input == 'quit':\n",
        "    print(\"Exiting Loop\")\n",
        "    break\n"
      ],
      "metadata": {
        "colab": {
          "base_uri": "https://localhost:8080/"
        },
        "id": "zaMXdsgL77Q2",
        "outputId": "d4c08dc7-1082-4e84-c16d-eda784d99643"
      },
      "execution_count": 19,
      "outputs": [
        {
          "output_type": "stream",
          "name": "stdout",
          "text": [
            "Enter quit to exit:quit\n",
            "Exiting Loop\n"
          ]
        }
      ]
    },
    {
      "cell_type": "code",
      "source": [
        "for i in range(10):\n",
        "  if i == 5:\n",
        "    print(\"Breaking the loop\")\n",
        "    break\n",
        "  print(i)\n"
      ],
      "metadata": {
        "colab": {
          "base_uri": "https://localhost:8080/"
        },
        "id": "yV1LfNir9GRY",
        "outputId": "da5d4f9d-ca56-4fb4-cb86-b0d238e90400"
      },
      "execution_count": 21,
      "outputs": [
        {
          "output_type": "stream",
          "name": "stdout",
          "text": [
            "0\n",
            "1\n",
            "2\n",
            "3\n",
            "4\n",
            "Breaking the loop\n"
          ]
        }
      ]
    },
    {
      "cell_type": "code",
      "source": [
        "for i in range(20):\n",
        "  if i % 2 == 0:\n",
        "    continue\n",
        "\n",
        "  print(f\"{i} is odd\")"
      ],
      "metadata": {
        "colab": {
          "base_uri": "https://localhost:8080/"
        },
        "id": "cr1lQevW9npo",
        "outputId": "ea3e1ae3-99a9-4611-ada5-3fa7f02e379b"
      },
      "execution_count": 22,
      "outputs": [
        {
          "output_type": "stream",
          "name": "stdout",
          "text": [
            "1 is odd\n",
            "3 is odd\n",
            "5 is odd\n",
            "7 is odd\n",
            "9 is odd\n",
            "11 is odd\n",
            "13 is odd\n",
            "15 is odd\n",
            "17 is odd\n",
            "19 is odd\n"
          ]
        }
      ]
    },
    {
      "cell_type": "code",
      "source": [
        "for i in range(5):\n",
        "  print(f\"Processing {i}\")\n",
        "  if i == 3:\n",
        "    pass\n",
        "    print(f\"Processing {i}\")"
      ],
      "metadata": {
        "colab": {
          "base_uri": "https://localhost:8080/"
        },
        "id": "imdO8F6S99-W",
        "outputId": "3a57624e-1de8-4bb8-cf8e-cff70dcb97a5"
      },
      "execution_count": 23,
      "outputs": [
        {
          "output_type": "stream",
          "name": "stdout",
          "text": [
            "Processing 0\n",
            "Processing 1\n",
            "Processing 2\n",
            "Processing 3\n",
            "Processing 3\n",
            "Processing 4\n"
          ]
        }
      ]
    },
    {
      "cell_type": "code",
      "source": [
        "for i in range(3):\n",
        "  for j in range(2):\n",
        "    print(f\"i = {i} , j = {j}\")\n",
        ""
      ],
      "metadata": {
        "colab": {
          "base_uri": "https://localhost:8080/"
        },
        "id": "8bV1uydA-ZM-",
        "outputId": "029a11d1-11e0-44c8-8142-d5965d65b9f6"
      },
      "execution_count": 25,
      "outputs": [
        {
          "output_type": "stream",
          "name": "stdout",
          "text": [
            "i = 0 , j = 0\n",
            "i = 0 , j = 1\n",
            "i = 1 , j = 0\n",
            "i = 1 , j = 1\n",
            "i = 2 , j = 0\n",
            "i = 2 , j = 1\n"
          ]
        }
      ]
    },
    {
      "cell_type": "code",
      "source": [
        "for i in range(1,6):\n",
        "  for j in range(1,6):\n",
        "    print(f\"{i} x {j} = {i * j}\")\n",
        "  print()"
      ],
      "metadata": {
        "colab": {
          "base_uri": "https://localhost:8080/"
        },
        "id": "7Vj2SOMU-rzq",
        "outputId": "00cf059e-ecdd-4205-fb0f-8fc8100f3f42"
      },
      "execution_count": 28,
      "outputs": [
        {
          "output_type": "stream",
          "name": "stdout",
          "text": [
            "1 x 1 = 1\n",
            "1 x 2 = 2\n",
            "1 x 3 = 3\n",
            "1 x 4 = 4\n",
            "1 x 5 = 5\n",
            "\n",
            "2 x 1 = 2\n",
            "2 x 2 = 4\n",
            "2 x 3 = 6\n",
            "2 x 4 = 8\n",
            "2 x 5 = 10\n",
            "\n",
            "3 x 1 = 3\n",
            "3 x 2 = 6\n",
            "3 x 3 = 9\n",
            "3 x 4 = 12\n",
            "3 x 5 = 15\n",
            "\n",
            "4 x 1 = 4\n",
            "4 x 2 = 8\n",
            "4 x 3 = 12\n",
            "4 x 4 = 16\n",
            "4 x 5 = 20\n",
            "\n",
            "5 x 1 = 5\n",
            "5 x 2 = 10\n",
            "5 x 3 = 15\n",
            "5 x 4 = 20\n",
            "5 x 5 = 25\n",
            "\n"
          ]
        }
      ]
    },
    {
      "cell_type": "code",
      "source": [
        "for num in range(5):\n",
        "  print(num)\n",
        "else:\n",
        "  print(\"Loop completed\")\n",
        ""
      ],
      "metadata": {
        "colab": {
          "base_uri": "https://localhost:8080/"
        },
        "id": "YxvYEdge-uGZ",
        "outputId": "34ad73b6-890f-4158-9b7d-3b533808bbe6"
      },
      "execution_count": 29,
      "outputs": [
        {
          "output_type": "stream",
          "name": "stdout",
          "text": [
            "0\n",
            "1\n",
            "2\n",
            "3\n",
            "4\n",
            "Loop completed\n"
          ]
        }
      ]
    },
    {
      "cell_type": "code",
      "source": [
        "for num in range(5):\n",
        "  if num == 6:\n",
        "    print(\"Breaking the loop\")\n",
        "    break\n",
        "  print(num)\n",
        "else:\n",
        "  print(\"Loop completed without printing this\")\n"
      ],
      "metadata": {
        "colab": {
          "base_uri": "https://localhost:8080/"
        },
        "id": "hPIyUPVO_15L",
        "outputId": "78f24d4e-ffc8-4872-d884-e882f36f6988"
      },
      "execution_count": 31,
      "outputs": [
        {
          "output_type": "stream",
          "name": "stdout",
          "text": [
            "0\n",
            "1\n",
            "2\n",
            "3\n",
            "4\n",
            "Loop completed without printing this\n"
          ]
        }
      ]
    },
    {
      "cell_type": "code",
      "source": [
        "nums = [1,2,3,4,5]\n",
        "search = 7\n",
        "for num in nums:\n",
        "  if num == search:\n",
        "    print(f\"{search} found\")\n",
        "    break\n",
        "else:\n",
        "  print(f\"{search} not found in the list\")"
      ],
      "metadata": {
        "colab": {
          "base_uri": "https://localhost:8080/"
        },
        "id": "i02dQcmzAJbT",
        "outputId": "4695defe-9f78-4929-ac64-c408aa624d98"
      },
      "execution_count": 32,
      "outputs": [
        {
          "output_type": "stream",
          "name": "stdout",
          "text": [
            "7 not found in the list\n"
          ]
        }
      ]
    },
    {
      "cell_type": "code",
      "source": [
        "def greet():\n",
        "  print(\"Hello, World!\")\n",
        "greet()\n",
        "\n",
        "def greet_user(name):\n",
        "  print(f\"Hello, {name}!\")\n",
        "greet_user(\"Javeria\")"
      ],
      "metadata": {
        "colab": {
          "base_uri": "https://localhost:8080/"
        },
        "id": "7rCTAP9jAVh-",
        "outputId": "eca4daac-3dd1-4e83-a4d1-cc694ce4d349"
      },
      "execution_count": 35,
      "outputs": [
        {
          "output_type": "stream",
          "name": "stdout",
          "text": [
            "Hello, World!\n",
            "Hello, Javeria!\n"
          ]
        }
      ]
    },
    {
      "cell_type": "code",
      "source": [
        "def add(a,b):\n",
        "  return a + b\n",
        "print(add(5,3))\n",
        "\n",
        "def say_hello():\n",
        "  print(\"Hi there!\")\n",
        "say_hello()\n",
        "\n",
        "def display_info(name,age):\n",
        "  print(f\"Name: {name}, Age: {age}\")\n",
        "display_info(\"Javeria\",20)\n"
      ],
      "metadata": {
        "colab": {
          "base_uri": "https://localhost:8080/"
        },
        "id": "pFqvlhokAr9j",
        "outputId": "d5e1e66a-f4fe-42b1-8552-a0bc18091264"
      },
      "execution_count": 37,
      "outputs": [
        {
          "output_type": "stream",
          "name": "stdout",
          "text": [
            "8\n",
            "Hi there!\n",
            "Name: Javeria, Age: 20\n"
          ]
        }
      ]
    },
    {
      "cell_type": "code",
      "source": [
        "def my_function():\n",
        "  pass\n",
        "\n",
        "result = my_function()\n",
        "print(result)"
      ],
      "metadata": {
        "colab": {
          "base_uri": "https://localhost:8080/"
        },
        "id": "kZmk_MwdA7h1",
        "outputId": "59085cba-6a95-480e-ac65-bdb827beeb9b"
      },
      "execution_count": 8,
      "outputs": [
        {
          "output_type": "stream",
          "name": "stdout",
          "text": [
            "None\n"
          ]
        }
      ]
    },
    {
      "cell_type": "code",
      "source": [
        "def print_arg(*args):\n",
        "  for arg in args:\n",
        "    print(arg)\n",
        "print_arg(1,2,3,4,5)\n",
        "\n"
      ],
      "metadata": {
        "colab": {
          "base_uri": "https://localhost:8080/"
        },
        "id": "n4aYTEcaAIP6",
        "outputId": "9213338b-8d0b-4944-8e16-9b45528745cc"
      },
      "execution_count": 9,
      "outputs": [
        {
          "output_type": "stream",
          "name": "stdout",
          "text": [
            "1\n",
            "2\n",
            "3\n",
            "4\n",
            "5\n"
          ]
        }
      ]
    },
    {
      "cell_type": "code",
      "source": [
        "def print_kwargs(**kwargs):\n",
        "  for key, value in kwargs.items():\n",
        "    print(f\"{key}:{value}\")\n",
        "print_kwargs(name=\"Umair\", age=25)"
      ],
      "metadata": {
        "colab": {
          "base_uri": "https://localhost:8080/"
        },
        "id": "ZA77gjLfAL8f",
        "outputId": "ba39b16a-0e86-4837-e2cf-be00fa32a86e"
      },
      "execution_count": 11,
      "outputs": [
        {
          "output_type": "stream",
          "name": "stdout",
          "text": [
            "name:Umair\n",
            "age:25\n"
          ]
        }
      ]
    },
    {
      "cell_type": "code",
      "source": [
        "square = lambda x: x**2\n",
        "print(square(5))   #x=5\n"
      ],
      "metadata": {
        "id": "PdmicouVATWa",
        "outputId": "a2ae6eed-bbc0-4c7e-a31b-2291ebdcbbc5",
        "colab": {
          "base_uri": "https://localhost:8080/"
        }
      },
      "execution_count": 12,
      "outputs": [
        {
          "output_type": "stream",
          "name": "stdout",
          "text": [
            "25\n"
          ]
        }
      ]
    }
  ]
}