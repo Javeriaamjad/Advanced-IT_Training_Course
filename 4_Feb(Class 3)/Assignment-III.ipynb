{
  "nbformat": 4,
  "nbformat_minor": 0,
  "metadata": {
    "colab": {
      "provenance": []
    },
    "kernelspec": {
      "name": "python3",
      "display_name": "Python 3"
    },
    "language_info": {
      "name": "python"
    }
  },
  "cells": [
    {
      "cell_type": "markdown",
      "source": [
        "To-Do List Application"
      ],
      "metadata": {
        "id": "XdnAemSpmhWe"
      }
    },
    {
      "cell_type": "code",
      "execution_count": 4,
      "metadata": {
        "colab": {
          "base_uri": "https://localhost:8080/"
        },
        "id": "zTCtQr49AayP",
        "outputId": "2bd9a73d-cf67-4b32-c089-0bfca9ab224a"
      },
      "outputs": [
        {
          "output_type": "stream",
          "name": "stdout",
          "text": [
            "Finish homework\n",
            "Buy groceries\n",
            "Finish homework\n"
          ]
        }
      ],
      "source": [
        "tasks = []\n",
        "def add_task(task):\n",
        "  tasks.append(task)\n",
        "\n",
        "def remove_task(task):\n",
        "  if task in tasks:\n",
        "    tasks.remove(task)\n",
        "\n",
        "def view_tasks():\n",
        "  for task in tasks:\n",
        "    print(task)\n",
        "\n",
        "add_task(\"Finish homework\")\n",
        "add_task(\"Buy groceries\")\n",
        "view_tasks()\n",
        "remove_task(\"Buy groceries\")\n",
        "view_tasks()"
      ]
    },
    {
      "cell_type": "markdown",
      "source": [
        "Find Maximum and Minimum Values in a List"
      ],
      "metadata": {
        "id": "j-CXm_bQmunD"
      }
    },
    {
      "cell_type": "code",
      "source": [
        "def find_max_min(lst):\n",
        "  max_val = lst[0]\n",
        "  min_val = lst[0]\n",
        "\n",
        "  for num in lst:\n",
        "      if num > max_val:\n",
        "          max_val = num\n",
        "      if num < min_val:\n",
        "          min_val = num\n",
        "\n",
        "  return max_val, min_val\n",
        "\n",
        "numbers = [3, 9, 2, 8, 1]\n",
        "max_val, min_val = find_max_min(numbers)\n",
        "print(f\"Max: {max_val}, Min: {min_val}\")"
      ],
      "metadata": {
        "colab": {
          "base_uri": "https://localhost:8080/"
        },
        "id": "7XSt6TAJmnBM",
        "outputId": "cfc70bfd-07d1-4d2f-b515-b49649097411"
      },
      "execution_count": 5,
      "outputs": [
        {
          "output_type": "stream",
          "name": "stdout",
          "text": [
            "Max: 9, Min: 1\n"
          ]
        }
      ]
    },
    {
      "cell_type": "markdown",
      "source": [
        "Create a Simple Phonebook Using Dictionaries"
      ],
      "metadata": {
        "id": "KpHH5tUind6W"
      }
    },
    {
      "cell_type": "code",
      "source": [
        "phonebook = {}\n",
        "\n",
        "def add_contact(name, number):\n",
        "    phonebook[name] = number\n",
        "\n",
        "def get_number(name):\n",
        "    return phonebook.get(name, \"Contact not found\")\n",
        "\n",
        "\n",
        "add_contact(\"Alice\", \"1234567890\")\n",
        "add_contact(\"Bob\", \"9876543210\")\n",
        "print(get_number(\"Alice\"))"
      ],
      "metadata": {
        "colab": {
          "base_uri": "https://localhost:8080/"
        },
        "id": "eUbOV6f_nPjs",
        "outputId": "f8d93249-cf8a-4fd7-872f-029f1c776a8a"
      },
      "execution_count": 6,
      "outputs": [
        {
          "output_type": "stream",
          "name": "stdout",
          "text": [
            "1234567890\n"
          ]
        }
      ]
    },
    {
      "cell_type": "markdown",
      "source": [
        "Inventory System (Using Dictionaries)"
      ],
      "metadata": {
        "id": "08Cxw_rgoMK7"
      }
    },
    {
      "cell_type": "code",
      "source": [
        "inventory = {}\n",
        "\n",
        "def add_item(item, quantity):\n",
        "    if item in inventory:\n",
        "        inventory[item] += quantity\n",
        "    else:\n",
        "        inventory[item] = quantity\n",
        "\n",
        "def remove_item(item, quantity):\n",
        "    if item in inventory and inventory[item] >= quantity:\n",
        "        inventory[item] -= quantity\n",
        "        if inventory[item] == 0:\n",
        "            del inventory[item]\n",
        "    else:\n",
        "        print(f\"Insufficient quantity of {item}.\")\n",
        "\n",
        "def view_inventory():\n",
        "    for item, quantity in inventory.items():\n",
        "        print(f\"{item}: {quantity}\")\n",
        "\n",
        "\n",
        "\n",
        "add_item(\"Apple\", 10)\n",
        "add_item(\"Banana\", 5)\n",
        "remove_item(\"Apple\", 5)\n",
        "view_inventory()\n"
      ],
      "metadata": {
        "colab": {
          "base_uri": "https://localhost:8080/"
        },
        "id": "Jj3weAjDnulK",
        "outputId": "2db3f387-925c-4749-a7d1-f306c0a986d6"
      },
      "execution_count": 16,
      "outputs": [
        {
          "output_type": "stream",
          "name": "stdout",
          "text": [
            "Apple: 5\n",
            "Banana: 5\n",
            "Apple: 5\n",
            "Banana: 5\n",
            "strawberry: 10\n"
          ]
        }
      ]
    },
    {
      "cell_type": "markdown",
      "source": [
        "ATM System Simulation with Global Variables"
      ],
      "metadata": {
        "id": "5mXvzfqAoOTy"
      }
    },
    {
      "cell_type": "code",
      "source": [
        "def deposit(balance, amount):\n",
        "    balance += amount\n",
        "    print(f\"Deposited: {amount}. New balance: {balance}\")\n",
        "    return balance\n",
        "\n",
        "def withdraw(balance, amount):\n",
        "    if amount <= balance:\n",
        "        balance -= amount\n",
        "        print(f\"Withdrew: {amount}. New balance: {balance}\")\n",
        "    else:\n",
        "        print(\"Insufficient funds\")\n",
        "    return balance\n",
        "\n",
        "def check_balance(balance):\n",
        "    print(f\"Current balance: {balance}\")\n",
        "\n",
        "balance = 1000\n",
        "balance = deposit(balance, 500)\n",
        "balance = withdraw(balance, 200)\n",
        "check_balance(balance)\n",
        "\n"
      ],
      "metadata": {
        "colab": {
          "base_uri": "https://localhost:8080/"
        },
        "id": "98Xxt-jfoIYQ",
        "outputId": "cec52c10-bc18-4950-ca5c-f51ee6204d13"
      },
      "execution_count": 11,
      "outputs": [
        {
          "output_type": "stream",
          "name": "stdout",
          "text": [
            "Deposited: 500. New balance: 1500\n",
            "Withdrew: 200. New balance: 1300\n",
            "Current balance: 1300\n"
          ]
        }
      ]
    }
  ]
}