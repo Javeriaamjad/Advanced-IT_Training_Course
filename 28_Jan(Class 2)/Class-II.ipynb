{
  "nbformat": 4,
  "nbformat_minor": 0,
  "metadata": {
    "colab": {
      "provenance": []
    },
    "kernelspec": {
      "name": "python3",
      "display_name": "Python 3"
    },
    "language_info": {
      "name": "python"
    }
  },
  "cells": [
    {
      "cell_type": "code",
      "execution_count": 1,
      "metadata": {
        "colab": {
          "base_uri": "https://localhost:8080/"
        },
        "id": "_dyOzOb1rerS",
        "outputId": "af54ccf2-3516-49e0-df4f-f23d48418c6f"
      },
      "outputs": [
        {
          "output_type": "stream",
          "name": "stdout",
          "text": [
            "This is my second class of Python language\n"
          ]
        }
      ],
      "source": [
        "#indentation\n",
        "if True:\n",
        "  print(\"This is my second class of Python language\")\n",
        "\n",
        "#comments\n",
        "# if True: clt + /\n",
        "# print(\"This is my second class of Python language\")"
      ]
    },
    {
      "cell_type": "code",
      "source": [
        "#variables and constants\n",
        "name = 'Umair'\n",
        "age = 26\n",
        "PI = 3.14159\n",
        "print(\"My name is\", name)\n",
        "print(\"My age is\", age)\n",
        "print(PI)"
      ],
      "metadata": {
        "colab": {
          "base_uri": "https://localhost:8080/"
        },
        "id": "KCj1ghowruhd",
        "outputId": "acc1c0dd-44fd-4a08-e936-101a22755361"
      },
      "execution_count": 2,
      "outputs": [
        {
          "output_type": "stream",
          "name": "stdout",
          "text": [
            "My name is Umair\n",
            "My age is 26\n",
            "3.14159\n"
          ]
        }
      ]
    },
    {
      "cell_type": "code",
      "source": [
        "#input and output fnctions\n",
        "name = input(\"Enter your name: \")  #input function\n",
        "print(\"My name is\", name)  #output function\n",
        "print(type(name))\n"
      ],
      "metadata": {
        "colab": {
          "base_uri": "https://localhost:8080/"
        },
        "id": "ifGAGJmfr1O_",
        "outputId": "f7b84c85-fc82-4b37-e9cd-89a0ea531fa8"
      },
      "execution_count": 3,
      "outputs": [
        {
          "output_type": "stream",
          "name": "stdout",
          "text": [
            "Enter your name: Javeria\n",
            "My name is Javeria\n",
            "<class 'str'>\n"
          ]
        }
      ]
    },
    {
      "cell_type": "code",
      "source": [
        "#Primitive Data type\n",
        "x = 10 #integer\n",
        "y = 10.01\n",
        "z = 4 + 3j\n",
        "print(\"Real number is,\", z.real)\n",
        "print(\"Imaginary number\", z.imag)"
      ],
      "metadata": {
        "colab": {
          "base_uri": "https://localhost:8080/"
        },
        "id": "VIjBfQREr2xG",
        "outputId": "1c191410-9a37-4abd-beab-2aab7e6abb64"
      },
      "execution_count": 4,
      "outputs": [
        {
          "output_type": "stream",
          "name": "stdout",
          "text": [
            "Real number is, 4.0\n",
            "Imaginary number 3.0\n"
          ]
        }
      ]
    },
    {
      "cell_type": "code",
      "source": [
        "#string\n",
        "sentence = \"This is my second class of Python language\"\n",
        "print(\"Firs letter:\", sentence[0])\n",
        "print(\"Here is\", sentence[-15])\n",
        "greeting = \"Python \" + \"language\"\n",
        "print(greeting)\n",
        "repeat = \"Python\" * 3\n",
        "print(repeat)\n",
        "print(\"Sliced string:\", sentence[0:4])\n",
        "print(\"Sliced string:\", sentence[0:23])\n",
        "print(\"Lower case\", sentence.lower())\n",
        "print(\"Upper case\", sentence.upper())\n",
        "print(\"replace\", sentence.replace(\"Python\", \"C++\"))"
      ],
      "metadata": {
        "colab": {
          "base_uri": "https://localhost:8080/"
        },
        "id": "FAQE6fLXr9Aj",
        "outputId": "706a165c-1be1-418d-a29d-bb4d37d61440"
      },
      "execution_count": 5,
      "outputs": [
        {
          "output_type": "stream",
          "name": "stdout",
          "text": [
            "Firs letter: T\n",
            "Here is P\n",
            "Python language\n",
            "PythonPythonPython\n",
            "Sliced string: This\n",
            "Sliced string: This is my second class\n",
            "Lower case this is my second class of python language\n",
            "Upper case THIS IS MY SECOND CLASS OF PYTHON LANGUAGE\n",
            "replace This is my second class of C++ language\n"
          ]
        }
      ]
    },
    {
      "cell_type": "code",
      "source": [
        "numbers = [1,2,3,4,5]\n",
        "numbers.append(6)\n",
        "print(numbers)\n",
        "#List slicing\n",
        "numbers[:3]"
      ],
      "metadata": {
        "colab": {
          "base_uri": "https://localhost:8080/"
        },
        "id": "K8fmpKqVsBbK",
        "outputId": "f9a8fb5f-fdc4-4b89-9ecb-22ad6753d1f7"
      },
      "execution_count": 6,
      "outputs": [
        {
          "output_type": "stream",
          "name": "stdout",
          "text": [
            "[1, 2, 3, 4, 5, 6]\n"
          ]
        },
        {
          "output_type": "execute_result",
          "data": {
            "text/plain": [
              "[1, 2, 3]"
            ]
          },
          "metadata": {},
          "execution_count": 6
        }
      ]
    },
    {
      "cell_type": "code",
      "source": [
        "numbers = (1,2,3,4,5)\n",
        "print(numbers)"
      ],
      "metadata": {
        "colab": {
          "base_uri": "https://localhost:8080/"
        },
        "id": "nyOiG62dsGg6",
        "outputId": "f876ac68-fff9-4f65-f18e-05c6f06f9003"
      },
      "execution_count": 7,
      "outputs": [
        {
          "output_type": "stream",
          "name": "stdout",
          "text": [
            "(1, 2, 3, 4, 5)\n"
          ]
        }
      ]
    },
    {
      "cell_type": "code",
      "source": [
        "numbers = {1,2,3,4,5}\n",
        "numbers.add(5)\n",
        "print(numbers)"
      ],
      "metadata": {
        "colab": {
          "base_uri": "https://localhost:8080/"
        },
        "id": "ug2rlr__sHJj",
        "outputId": "3e2119d2-3ab4-4458-cf90-e3fb3a32ce53"
      },
      "execution_count": 8,
      "outputs": [
        {
          "output_type": "stream",
          "name": "stdout",
          "text": [
            "{1, 2, 3, 4, 5}\n"
          ]
        }
      ]
    },
    {
      "cell_type": "code",
      "source": [
        "student = {\"name\": \"Umair\"}  #key value pair\n",
        "student['name'] = \"Talha\"\n",
        "print(student)\n",
        "student['age'] = 26\n",
        "print(student)"
      ],
      "metadata": {
        "colab": {
          "base_uri": "https://localhost:8080/"
        },
        "id": "Bj8wI9bRsKmk",
        "outputId": "e0c8aa84-5bbd-4870-e5d9-fd10899ec862"
      },
      "execution_count": 16,
      "outputs": [
        {
          "output_type": "stream",
          "name": "stdout",
          "text": [
            "{'name': 'Talha'}\n",
            "{'name': 'Talha', 'age': 26}\n"
          ]
        }
      ]
    },
    {
      "cell_type": "code",
      "source": [
        "num1 = 10\n",
        "num2 = 10.01\n",
        "result  = num1 + num2\n",
        "print(result)\n",
        "print(type(result))"
      ],
      "metadata": {
        "colab": {
          "base_uri": "https://localhost:8080/"
        },
        "id": "TKgSSN2ysMTy",
        "outputId": "556d0c71-c279-4439-d406-c5d2928780bc"
      },
      "execution_count": 15,
      "outputs": [
        {
          "output_type": "stream",
          "name": "stdout",
          "text": [
            "20.009999999999998\n",
            "<class 'float'>\n"
          ]
        }
      ]
    },
    {
      "cell_type": "code",
      "source": [
        "age = \"26\"\n",
        "integer = 10\n",
        "age = int(age)\n",
        "# integer = str(integer)\n",
        "# float(age)\n",
        "print(type(age))\n",
        "result = age + integer\n",
        "print(result)"
      ],
      "metadata": {
        "colab": {
          "base_uri": "https://localhost:8080/"
        },
        "id": "9pmx_WLIsNO6",
        "outputId": "f1eefe4c-a528-4fbd-8666-be884f829131"
      },
      "execution_count": 14,
      "outputs": [
        {
          "output_type": "stream",
          "name": "stdout",
          "text": [
            "<class 'int'>\n",
            "36\n"
          ]
        }
      ]
    },
    {
      "cell_type": "code",
      "source": [
        "num1 = 10\n",
        "num2 = 4\n",
        "\n",
        "print(\"Equal\", num1 == num2)\n",
        "print(\"Not Equal\", num1 != num2)\n",
        "print(\"Greater than\", num1 > num2)\n",
        "print(\"Less than\", num1 < num2)\n",
        "print(\"Floor Division\", num1 // num2)\n",
        "print(\"Modulus\", num1 % num2)\n",
        "print(\"Exponent\", num1 ** num2)\n"
      ],
      "metadata": {
        "colab": {
          "base_uri": "https://localhost:8080/"
        },
        "id": "_2icsJTqsQQ3",
        "outputId": "731524ff-ecd3-4c8a-b615-f9d22096b690"
      },
      "execution_count": 13,
      "outputs": [
        {
          "output_type": "stream",
          "name": "stdout",
          "text": [
            "Equal False\n",
            "Not Equal True\n",
            "Greater than True\n",
            "Less than False\n",
            "Floor Division 2\n",
            "Modulus 2\n",
            "Exponent 10000\n"
          ]
        }
      ]
    },
    {
      "cell_type": "code",
      "source": [
        "a=10\n",
        "a+=5\n",
        "a-=5\n",
        "a*=5\n",
        "a/=5\n",
        "print(a)"
      ],
      "metadata": {
        "colab": {
          "base_uri": "https://localhost:8080/"
        },
        "id": "sN5_8SEvsRMW",
        "outputId": "760d596a-e187-491a-9bdf-47593eed895d"
      },
      "execution_count": 12,
      "outputs": [
        {
          "output_type": "stream",
          "name": "stdout",
          "text": [
            "10.0\n"
          ]
        }
      ]
    },
    {
      "cell_type": "code",
      "source": [
        "import random\n",
        "print(random.randint(1,10))\n",
        "print(random.random())\n",
        "print(random.randint(1,10))\n",
        "items = ['Apple', \"Bananas\"]\n",
        "print(random.choice(items))"
      ],
      "metadata": {
        "colab": {
          "base_uri": "https://localhost:8080/"
        },
        "id": "l7HgwYKQsUsK",
        "outputId": "4c2c33b0-dcbd-4671-b226-a60986f4e035"
      },
      "execution_count": 11,
      "outputs": [
        {
          "output_type": "stream",
          "name": "stdout",
          "text": [
            "4\n",
            "0.6932884055747819\n",
            "10\n",
            "Bananas\n"
          ]
        }
      ]
    },
    {
      "cell_type": "code",
      "source": [
        "num1 = 10\n",
        "num2 = 4\n",
        "print(\"Addition:\", num1 + num2)\n",
        "print(\"Subtraction:\", num1 - num2)\n",
        "print(\"Multiplication:\", num1 * num2)\n",
        "print(\"Division:\", num1 / num2)\n",
        "print(\"Floor Division\", num1 // num2)\n",
        "print(\"Modulus\", num1 % num2)\n",
        "print(\"Exponent\", num1 ** num2)"
      ],
      "metadata": {
        "colab": {
          "base_uri": "https://localhost:8080/"
        },
        "id": "cbkH39qXsWwQ",
        "outputId": "9a480ee0-9c7d-4e57-c8ad-32a13596da31"
      },
      "execution_count": 10,
      "outputs": [
        {
          "output_type": "stream",
          "name": "stdout",
          "text": [
            "Addition: 14\n",
            "Subtraction: 6\n",
            "Multiplication: 40\n",
            "Division: 2.5\n",
            "Floor Division 2\n",
            "Modulus 2\n",
            "Exponent 10000\n"
          ]
        }
      ]
    },
    {
      "cell_type": "code",
      "source": [
        "p = True\n",
        "q= False\n",
        "print(\"AND\", p and q)\n",
        "print(\"OR\", p or q)\n",
        "print(\"NOT\", not p)\n"
      ],
      "metadata": {
        "colab": {
          "base_uri": "https://localhost:8080/"
        },
        "id": "LHF09iWysYZQ",
        "outputId": "6bffe6a0-e916-476e-a468-3be967c54758"
      },
      "execution_count": 9,
      "outputs": [
        {
          "output_type": "stream",
          "name": "stdout",
          "text": [
            "AND False\n",
            "OR True\n",
            "NOT False\n"
          ]
        }
      ]
    }
  ]
}