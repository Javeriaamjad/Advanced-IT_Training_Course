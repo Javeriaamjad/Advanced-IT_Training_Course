{
  "nbformat": 4,
  "nbformat_minor": 0,
  "metadata": {
    "colab": {
      "provenance": []
    },
    "kernelspec": {
      "name": "python3",
      "display_name": "Python 3"
    },
    "language_info": {
      "name": "python"
    }
  },
  "cells": [
    {
      "cell_type": "markdown",
      "source": [
        "ASSIGNMENT CLASS 2"
      ],
      "metadata": {
        "id": "OnHSRnh2hpJC"
      }
    },
    {
      "cell_type": "code",
      "execution_count": null,
      "metadata": {
        "colab": {
          "base_uri": "https://localhost:8080/"
        },
        "id": "P8J44jArh8yC",
        "outputId": "f4ae3b29-c73c-45d3-bf29-b79a4c2ecd75"
      },
      "outputs": [
        {
          "output_type": "stream",
          "name": "stdout",
          "text": [
            "Enter your first name: Javeria\n",
            "Enter your last name: Amjad\n",
            "First name (upper): JAVERIA\n",
            "Last name (lower): amjad\n",
            "Sum of letters in your first and last name: 12\n"
          ]
        }
      ],
      "source": [
        "first_name = input(\"Enter your first name: \")\n",
        "last_name = input(\"Enter your last name: \")\n",
        "\n",
        "first_name = first_name.upper()\n",
        "last_name = last_name.lower()\n",
        "\n",
        "total_letters = len(first_name) + len(last_name)\n",
        "print(f\"First name (upper): {first_name}\")\n",
        "print(f\"Last name (lower): {last_name}\")\n",
        "print(\"Sum of letters in your first and last name:\", total_letters)"
      ]
    },
    {
      "cell_type": "code",
      "source": [
        "print(\"Calculate the area of following shapes:\")\n",
        "print(\"1. Circle\")\n",
        "print(\"2. Rectangle\")\n",
        "print(\"3. Square\")\n",
        "print(\"4. Triangle\")\n",
        "\n",
        "shape = input(\"Enter the shape you want to calculate the area of: \")\n",
        "print(f\"\\nFinding the Area of {shape}:\")\n",
        "\n",
        "# Area of Circle\n",
        "radius = float(input(\"\\nEnter the radius of the circle: \"))\n",
        "area_of_circle = 3.14 * radius ** 2\n",
        "print(f\"\\nThe area of the circle is: {area_of_circle} metre_squared.\\n\")\n",
        "\n",
        "\n",
        "# Area of Rectangle\n",
        "print(\"\\nFind area of Rectangle\")\n",
        "length = float(input(\"Enter length: \"))\n",
        "width = float(input(\"Enter width: \"))\n",
        "area = length * width\n",
        "print(f\"\\nArea of rectangle is {area}\\n\")\n",
        "\n",
        "\n",
        "# Area of Square\n",
        "print(\"\\nFind area of Square\")\n",
        "side = float(input(\"Enter side: \"))\n",
        "area = side * side\n",
        "print(f\"\\nArea of square is {area}\\n\")\n",
        "\n",
        "\n",
        "# Area of Triangle\n",
        "print(\"\\nFind area of Triangle\")\n",
        "breadth = float(input(\"Enter breadth: \"))\n",
        "height = float(input(\"Enter height: \"))\n",
        "area = 0.5 * breadth * height\n",
        "print(f\"\\nArea of triangle is {area}\\n\")\n",
        "\n",
        "\n"
      ],
      "metadata": {
        "id": "yaViC7aPij2R",
        "colab": {
          "base_uri": "https://localhost:8080/"
        },
        "outputId": "445d4684-a24f-4cc3-fce2-dce6ae8fa4cb"
      },
      "execution_count": 23,
      "outputs": [
        {
          "output_type": "stream",
          "name": "stdout",
          "text": [
            "Calculate the area of following shapes:\n",
            "1. Circle\n",
            "2. Rectangle\n",
            "3. Square\n",
            "4. Triangle\n",
            "Enter the shape you want to calculate the area of: circle\n",
            "\n",
            "Finding the Area of circle:\n",
            "\n",
            "Enter the radius of the circle: 5\n",
            "\n",
            "The area of the circle is: 78.5 metre_squared.\n",
            "\n",
            "\n",
            "Find area of Rectangle\n",
            "Enter length: 4\n",
            "Enter width: 6\n",
            "\n",
            "Area of rectangle is 24.0\n",
            "\n",
            "\n",
            "Find area of Square\n",
            "Enter side: 4\n",
            "\n",
            "Area of square is 16.0\n",
            "\n",
            "\n",
            "Find area of Triangle\n",
            "Enter breadth: 5\n",
            "Enter height: 9\n",
            "\n",
            "Area of triangle is 22.5\n",
            "\n"
          ]
        }
      ]
    },
    {
      "cell_type": "code",
      "source": [
        "import random\n",
        "\n",
        "colors = [\"red\", \"blue\", \"green\", \"yellow\", \"orange\", \"purple\"]\n",
        "index = random.randint(0, len(colors) - 1)\n",
        "\n",
        "selected_color = colors[index]\n",
        "password = selected_color[::-1]\n",
        "print(\"Selected Color:\", selected_color)\n",
        "print(\"Generated Password:\", password)"
      ],
      "metadata": {
        "colab": {
          "base_uri": "https://localhost:8080/"
        },
        "id": "0lrFLFTyiSvv",
        "outputId": "7f5db074-5ed7-4e96-a3c1-0be26e09c245"
      },
      "execution_count": 26,
      "outputs": [
        {
          "output_type": "stream",
          "name": "stdout",
          "text": [
            "Selected Color: blue\n",
            "Generated Password: eulb\n"
          ]
        }
      ]
    }
  ]
}